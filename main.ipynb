{
 "cells": [
  {
   "cell_type": "markdown",
   "metadata": {},
   "source": [
    "## EXECUTIVE SUMMARY\n",
    "\n",
    "- Users expect LLMs to retain conversation history for context-aware responses.  \n",
    "- This is typically achieved by appending past exchanges to the context window.  \n",
    "- OpenAI's Responses API simplifies this by using `previous_response_id` to maintain memory.  \n",
    "- However, it incurs higher token costs as all prior inputs in the chain are billed.  \n",
    "- This can be expensive for enterprises as conversations grow longer.  \n",
    "- A better approach is using a RAG system to embed and retrieve relevant interactions, avoiding full conversation replay.  "
   ]
  },
  {
   "cell_type": "code",
   "execution_count": null,
   "metadata": {},
   "outputs": [],
   "source": [
    "from dotenv import load_dotenv\n",
    "from openai import OpenAI\n",
    "import matplotlib.pyplot as plt\n",
    "\n",
    "# Get OPENAI_API_KEY from .env file\n",
    "load_dotenv()\n",
    "client = OpenAI()"
   ]
  },
  {
   "cell_type": "code",
   "execution_count": 98,
   "metadata": {},
   "outputs": [],
   "source": [
    "# Define prompts to be used in the notebook\n",
    "prompts = [\n",
    "    \"Hi, my name is John.\",\n",
    "    \"My surname is Smith.\",\n",
    "    \"I am 25 years old.\",\n",
    "    \"I live in New York.\",\n",
    "    \"I love programming.\",\n",
    "]\n",
    "\n",
    "# Define the model to be used\n",
    "model = \"gpt-4o-mini\""
   ]
  },
  {
   "cell_type": "markdown",
   "metadata": {},
   "source": [
    "## OpenAI CHAT Completions API is Stateless\n",
    "(It doesn't retain information about your past interactions with the model) "
   ]
  },
  {
   "cell_type": "code",
   "execution_count": 99,
   "metadata": {},
   "outputs": [
    {
     "data": {
      "text/plain": [
       "'Hi John! How can I assist you today?'"
      ]
     },
     "execution_count": 99,
     "metadata": {},
     "output_type": "execute_result"
    }
   ],
   "source": [
    "response = client.chat.completions.create(\n",
    "    model=model,\n",
    "    messages=[\n",
    "        {\n",
    "            \"role\": \"developer\",\n",
    "            \"content\": \"You are an amazing assistant that gives very succinct responses.\",\n",
    "        },\n",
    "        {\"role\": \"user\", \"content\": prompts[0]},\n",
    "    ],\n",
    ")\n",
    "\n",
    "response.choices[0].message.content"
   ]
  },
  {
   "cell_type": "code",
   "execution_count": 100,
   "metadata": {},
   "outputs": [
    {
     "data": {
      "text/plain": [
       "\"I don't know your name.\""
      ]
     },
     "execution_count": 100,
     "metadata": {},
     "output_type": "execute_result"
    }
   ],
   "source": [
    "response = client.chat.completions.create(\n",
    "    model=model,\n",
    "    messages=[\n",
    "        {\n",
    "            \"role\": \"developer\",\n",
    "            \"content\": \"You are an amazing assistant that gives very succinct responses.\",\n",
    "        },\n",
    "        {\"role\": \"user\", \"content\": \"What is my name?\"},\n",
    "    ],\n",
    ")\n",
    "\n",
    "response.choices[0].message.content"
   ]
  },
  {
   "cell_type": "markdown",
   "metadata": {},
   "source": [
    "- As expected, the model did not retain our past conversation"
   ]
  },
  {
   "cell_type": "markdown",
   "metadata": {},
   "source": [
    "## Make Chat Completions Stateful \n",
    "Let's add past conversation history when generating new output"
   ]
  },
  {
   "cell_type": "code",
   "execution_count": 101,
   "metadata": {},
   "outputs": [
    {
     "name": "stdout",
     "output_type": "stream",
     "text": [
      "Prompt: Hi, my name is John.\n",
      "Response: Hi John! I don’t have any specific information about you apart from your name. How can I assist you today?\n",
      "\n",
      "\n",
      "Prompt: My surname is Smith.\n",
      "Response: I only know your name is John Smith. I don’t have any other information. How can I help you today?\n",
      "\n",
      "\n",
      "Prompt: I am 25 years old.\n",
      "Response: You are John Smith, 25 years old. How can I assist you further?\n",
      "\n",
      "\n",
      "Prompt: I live in New York.\n",
      "Response: You are John Smith, 25 years old, and you live in New York. How can I help you today?\n",
      "\n",
      "\n",
      "Prompt: I love programming.\n",
      "Response: You are John Smith, 25 years old, living in New York, and you love programming. How can I assist you?\n",
      "\n",
      "\n"
     ]
    }
   ],
   "source": [
    "conversation = []\n",
    "for prompt in prompts:\n",
    "\n",
    "    ## Add the developer message to the messages list\n",
    "    messages = [\n",
    "        {\n",
    "            \"role\": \"developer\",\n",
    "            \"content\": \"You are an amazing assistant that gives very succinct responses.\",\n",
    "        },\n",
    "    ]\n",
    "\n",
    "    ## Add previous exchanges to the messages list\n",
    "    for exchange in conversation:\n",
    "        messages.append(\n",
    "            {\n",
    "                \"role\": \"user\",\n",
    "                \"content\": exchange[\"prompt\"],\n",
    "            }\n",
    "        )\n",
    "        messages.append(\n",
    "            {\n",
    "                \"role\": \"assistant\",\n",
    "                \"content\": exchange[\"response\"][\"choices\"][0][\"message\"][\"content\"],\n",
    "            }\n",
    "        )\n",
    "\n",
    "    ## Add the current prompt to the messages list\n",
    "    messages.append(\n",
    "        {\n",
    "            \"role\": \"user\",\n",
    "            \"content\": f\"{prompt} Briefly describe what you know about me.\",\n",
    "        }\n",
    "    )\n",
    "\n",
    "    ## Call the API\n",
    "    response = client.chat.completions.create(\n",
    "        model=model,\n",
    "        messages=messages,\n",
    "    )\n",
    "\n",
    "    ## Add to conversation\n",
    "    conversation.append({\"prompt\": prompt, \"response\": response.to_dict()})\n",
    "\n",
    "    ## Display the prompt and response\n",
    "    print(f\"Prompt: {prompt}\\nResponse: {response.choices[0].message.content}\\n\\n\")"
   ]
  },
  {
   "cell_type": "markdown",
   "metadata": {},
   "source": [
    "- We can see that this kind of chaining helps remember past exhanges. However it also increases the number of tokens. Let's see how the input token increases from prompt to prompt"
   ]
  },
  {
   "cell_type": "code",
   "execution_count": null,
   "metadata": {},
   "outputs": [
    {
     "data": {
      "image/png": "[encoded data removed]",
      "text/plain": [
       "<Figure size 576x360 with 1 Axes>"
      ]
     },
     "metadata": {
      "needs_background": "light"
     },
     "output_type": "display_data"
    }
   ],
   "source": [
    "# Extract prompt tokens from the conversation\n",
    "token_counts_chat_completion = [\n",
    "    exchange[\"response\"][\"usage\"][\"prompt_tokens\"]\n",
    "    for exchange in conversation\n",
    "]\n",
    "\n",
    "\n",
    "# Plot the prompt tokens\n",
    "plt.figure(figsize=(8, 5))\n",
    "plt.plot(\n",
    "    range(1, len(token_counts_chat_completion) + 1),\n",
    "    token_counts_chat_completion,\n",
    "    marker=\"o\",\n",
    "    linestyle=\"-\",\n",
    "    color=\"b\",\n",
    ")\n",
    "plt.title(\"Prompt Tokens Over Conversation for Chat Completions API with Memory\")\n",
    "plt.xlabel(\"# Prompt\")\n",
    "plt.ylabel(\"Prompt Tokens\")\n",
    "plt.xticks(\n",
    "    range(1, len(token_counts_chat_completion) + 1)\n",
    ")  # Set x-axis labels to integers\n",
    "plt.grid(True)\n",
    "plt.show()"
   ]
  },
  {
   "cell_type": "markdown",
   "metadata": {},
   "source": [
    "- The chaining helps the model remember old exhanges by putting the past conversation in context window. However this is costly as the input token keeps increasing\n",
    "- Let's try Responses API and see whether it improves this situation"
   ]
  },
  {
   "cell_type": "markdown",
   "metadata": {},
   "source": [
    "## Try Responses API instead of Chat Completions API\n",
    "Steps for switching to Responses API from Chat Completions:\n",
    "1. Replace `client.chat.completions` with `client.responses`\n",
    "2. Use `input` instead of `messages`"
   ]
  },
  {
   "cell_type": "code",
   "execution_count": 104,
   "metadata": {},
   "outputs": [
    {
     "data": {
      "text/plain": [
       "'Hi John! How can I help you today?'"
      ]
     },
     "execution_count": 104,
     "metadata": {},
     "output_type": "execute_result"
    }
   ],
   "source": [
    "response = client.responses.create(\n",
    "    model=model,\n",
    "    input=prompts[0],\n",
    ")\n",
    "\n",
    "response.output_text"
   ]
  },
  {
   "cell_type": "code",
   "execution_count": 105,
   "metadata": {
    "vscode": {
     "languageId": "javascript"
    }
   },
   "outputs": [
    {
     "data": {
      "text/plain": [
       "\"I don't have access to personal data unless you share it with me. If you'd like to tell me your name, feel free!\""
      ]
     },
     "execution_count": 105,
     "metadata": {},
     "output_type": "execute_result"
    }
   ],
   "source": [
    "response = client.responses.create(model = model, input = \"What is my name?\")\n",
    "\n",
    "response.output_text"
   ]
  },
  {
   "cell_type": "markdown",
   "metadata": {},
   "source": [
    "- What? Responses API doesn't retain conversation history?\n",
    "- Actually, we need to tweak the API call a little bit to feed the latest prompt ID when generating response\n",
    "- This way, the model has access to the past exhanges"
   ]
  },
  {
   "cell_type": "code",
   "execution_count": 106,
   "metadata": {},
   "outputs": [
    {
     "data": {
      "text/plain": [
       "'Hi John! How can I assist you today?'"
      ]
     },
     "execution_count": 106,
     "metadata": {},
     "output_type": "execute_result"
    }
   ],
   "source": [
    "response = client.responses.create(model=model, input=prompts[0])\n",
    "\n",
    "# Get the response ID from the response object\n",
    "# This will be used in future prompts\n",
    "response_id = response.id\n",
    "response.output_text"
   ]
  },
  {
   "cell_type": "code",
   "execution_count": 107,
   "metadata": {},
   "outputs": [
    {
     "data": {
      "text/plain": [
       "'Your name is John. How can I help you today, John?'"
      ]
     },
     "execution_count": 107,
     "metadata": {},
     "output_type": "execute_result"
    }
   ],
   "source": [
    "# Let's try whether the memory is retained by feeding previous response ID\n",
    "response = client.responses.create(\n",
    "    model=model, input=\"What is my name?\", previous_response_id=response_id\n",
    ")\n",
    "\n",
    "response.output_text"
   ]
  },
  {
   "cell_type": "markdown",
   "metadata": {},
   "source": [
    "- Yaaay! The memory is retained.\n",
    "- Now let's implement a series of prompts as below"
   ]
  },
  {
   "cell_type": "code",
   "execution_count": 108,
   "metadata": {},
   "outputs": [
    {
     "name": "stdout",
     "output_type": "stream",
     "text": [
      "Prompt: Hi, my name is John.\n",
      "Response: Hi John! I don't have any information about you beyond what you've just shared. If you'd like me to know more, feel free to tell me about your interests, hobbies, or anything else you'd like to share!\n",
      "\n",
      "\n",
      "Prompt: My surname is Smith.\n",
      "Response: I know your name is John Smith, but I still don't have any details about your interests or background. If you share more about yourself, I can provide a better description!\n",
      "\n",
      "\n",
      "Prompt: I am 25 years old.\n",
      "Response: You're John Smith, a 25-year-old. That's a bit of your background, but I still don't have details about your interests, hobbies, or experiences. If you share more, I can give a fuller picture!\n",
      "\n",
      "\n",
      "Prompt: I live in New York.\n",
      "Response: You're John Smith, a 25-year-old living in New York. That's a vibrant city with plenty of cultural, social, and recreational opportunities. If you'd like to share more about your interests or experiences, I'd love to know!\n",
      "\n",
      "\n",
      "Prompt: I love programming.\n",
      "Response: You're John Smith, a 25-year-old living in New York who loves programming. That suggests you likely enjoy working with technology and solving problems through code. If you have any specific programming languages or projects you’re passionate about, feel free to share!\n",
      "\n",
      "\n"
     ]
    }
   ],
   "source": [
    "conversation = []\n",
    "response_id = None\n",
    "for prompt in prompts:\n",
    "\n",
    "    ## Call the API\n",
    "    response = client.responses.create(\n",
    "        model=model, \n",
    "        input=f\"{prompt} Briefly describe what you know about me.\", \n",
    "        previous_response_id=response_id\n",
    "    )\n",
    "\n",
    "    response_id = response.id\n",
    "\n",
    "    ## Add to conversation\n",
    "    conversation.append({\"prompt\": prompt, \"response\": response.to_dict()})\n",
    "\n",
    "    ## Display the prompt and response\n",
    "    print(f\"Prompt: {prompt}\\nResponse: {response.output_text}\\n\\n\")"
   ]
  },
  {
   "cell_type": "markdown",
   "metadata": {},
   "source": [
    "- Great, the Responses API helps us maintain memory, with less boilerplate code. \n",
    "- Let's check how the # prompts is increasin"
   ]
  },
  {
   "cell_type": "code",
   "execution_count": 109,
   "metadata": {},
   "outputs": [
    {
     "data": {
      "image/png": "[encoded data removed]",
      "text/plain": [
       "<Figure size 576x360 with 1 Axes>"
      ]
     },
     "metadata": {
      "needs_background": "light"
     },
     "output_type": "display_data"
    }
   ],
   "source": [
    "# Extract prompt tokens from the conversation\n",
    "token_counts_responses = [\n",
    "    exchange[\"response\"][\"usage\"][\"input_tokens\"] for exchange in conversation\n",
    "]\n",
    "\n",
    "\n",
    "# Plot the prompt tokens\n",
    "plt.figure(figsize=(8, 5))\n",
    "plt.plot(\n",
    "    range(1, len(token_counts_responses) + 1),\n",
    "    token_counts_responses,\n",
    "    marker=\"o\",\n",
    "    linestyle=\"-\",\n",
    "    color=\"b\",\n",
    ")\n",
    "plt.title(\"Prompt Tokens Over Conversation for Responses API\")\n",
    "plt.xlabel(\"# Prompt\")\n",
    "plt.ylabel(\"Prompt Tokens\")\n",
    "plt.xticks(range(1, len(token_counts_responses) + 1))  # Set x-axis labels to integers\n",
    "plt.grid(True)\n",
    "plt.show()"
   ]
  },
  {
   "cell_type": "markdown",
   "metadata": {},
   "source": [
    "- Let's get 2 plots side by side to compare"
   ]
  },
  {
   "cell_type": "code",
   "execution_count": 111,
   "metadata": {},
   "outputs": [
    {
     "data": {
      "image/png": "[encoded data removed]",
      "text/plain": [
       "<Figure size 1152x360 with 2 Axes>"
      ]
     },
     "metadata": {
      "needs_background": "light"
     },
     "output_type": "display_data"
    }
   ],
   "source": [
    "# Create subplots for side-by-side comparison\n",
    "fig, axes = plt.subplots(1, 2, figsize=(16, 5), sharey=True)\n",
    "\n",
    "# Plot for Chat Completions API\n",
    "axes[0].plot(\n",
    "    range(1, len(token_counts_chat_completion) + 1),\n",
    "    token_counts_chat_completion,\n",
    "    marker=\"o\",\n",
    "    linestyle=\"-\",\n",
    "    color=\"r\",\n",
    ")\n",
    "axes[0].set_title(\"Prompt Tokens for Chat Completions API with Memory\")\n",
    "axes[0].set_xlabel(\"# Prompt\")\n",
    "axes[0].set_ylabel(\"Prompt Tokens\")\n",
    "axes[0].set_xticks(range(1, len(token_counts_chat_completion) + 1))\n",
    "axes[0].grid(True)\n",
    "\n",
    "# Plot for Responses API\n",
    "axes[1].plot(\n",
    "    range(1, len(token_counts_responses) + 1),\n",
    "    token_counts_responses,\n",
    "    marker=\"o\",\n",
    "    linestyle=\"-\",\n",
    "    color=\"b\",\n",
    ")\n",
    "axes[1].set_title(\"Prompt Tokens for Responses API\")\n",
    "axes[1].set_xlabel(\"# Prompt\")\n",
    "axes[1].set_xticks(range(1, len(token_counts_responses) + 1))\n",
    "axes[1].grid(True)\n",
    "\n",
    "# Display the plots\n",
    "plt.tight_layout()\n",
    "plt.show()"
   ]
  },
  {
   "cell_type": "markdown",
   "metadata": {},
   "source": [
    "- This approach reduces boilerplate code and avoids tracking all past interactions, but the higher number of prompts may increase costs as conversations grow longer."
   ]
  }
 ],
 "metadata": {
  "kernelspec": {
   "display_name": "Python 3",
   "language": "python",
   "name": "python3"
  },
  "language_info": {
   "codemirror_mode": {
    "name": "ipython",
    "version": 3
   },
   "file_extension": ".py",
   "mimetype": "text/x-python",
   "name": "python",
   "nbconvert_exporter": "python",
   "pygments_lexer": "ipython3",
   "version": "3.10.0"
  }
 },
 "nbformat": 4,
 "nbformat_minor": 2
}
