{
 "cells": [
  {
   "cell_type": "markdown",
   "metadata": {},
   "source": [
    "# Example: Tool Usage of Responses API\n",
    "\n",
    "This example demonstrates how to use the Responses API to interact with a custom tool. The workflow includes defining a tool schema, handling function calls, and providing outputs back to the model. The example showcases a weather-fetching tool that responds to user queries about the weather in a specific location."
   ]
  },
  {
   "cell_type": "code",
   "execution_count": 1,
   "metadata": {},
   "outputs": [],
   "source": [
    "from dotenv import load_dotenv\n",
    "from openai import OpenAI\n",
    "import requests\n",
    "import json\n",
    "\n",
    "# Get OPENAI_API_KEY from .env file\n",
    "load_dotenv()\n",
    "client = OpenAI()"
   ]
  },
  {
   "cell_type": "markdown",
   "metadata": {},
   "source": [
    "### Step 1: Try Custom Function\n",
    "\n",
    "In this step, we define and use a custom function `get_weather` to fetch the current temperature for a given set of coordinates. Later, we will explore using OpenAI's built-in capabilities for similar tasks."
   ]
  },
  {
   "cell_type": "code",
   "execution_count": 3,
   "metadata": {},
   "outputs": [],
   "source": [
    "def get_weather(latitude, longitude):\n",
    "    response = requests.get(\n",
    "        f\"https://api.open-meteo.com/v1/forecast?latitude={latitude}&longitude={longitude}&current=temperature_2m,wind_speed_10m&hourly=temperature_2m,relative_humidity_2m,wind_speed_10m\"\n",
    "    )\n",
    "    data = response.json()\n",
    "    return data[\"current\"][\"temperature_2m\"]"
   ]
  },
  {
   "cell_type": "code",
   "execution_count": 4,
   "metadata": {},
   "outputs": [],
   "source": [
    "# Define the tool's schema\n",
    "tools = [\n",
    "    {\n",
    "        \"type\": \"function\",\n",
    "        \"name\": \"get_weather\",\n",
    "        \"description\": \"Get current temperature for provided coordinates in celsius.\",\n",
    "        \"parameters\": {\n",
    "            \"type\": \"object\",\n",
    "            \"properties\": {\n",
    "                \"latitude\": {\"type\": \"number\"},\n",
    "                \"longitude\": {\"type\": \"number\"},\n",
    "            },\n",
    "            \"required\": [\"latitude\", \"longitude\"],\n",
    "            \"additionalProperties\": False,\n",
    "        },\n",
    "        \"strict\": True,\n",
    "    }\n",
    "]"
   ]
  },
  {
   "cell_type": "code",
   "execution_count": 5,
   "metadata": {},
   "outputs": [],
   "source": [
    "input_messages = [\n",
    "    {\"role\": \"user\", \"content\": \"What's the weather like in Tokyo today?\"}\n",
    "]"
   ]
  },
  {
   "cell_type": "code",
   "execution_count": 6,
   "metadata": {},
   "outputs": [],
   "source": [
    "response = client.responses.create(\n",
    "    model=\"gpt-4o\",\n",
    "    input=input_messages,\n",
    "    tools=tools,\n",
    ")"
   ]
  },
  {
   "cell_type": "code",
   "execution_count": 7,
   "metadata": {},
   "outputs": [
    {
     "data": {
      "text/plain": [
       "[ResponseFunctionToolCall(arguments='{\"latitude\":35.682839,\"longitude\":139.759455}', call_id='call_KqM2XlFWwa9VKR6A35JbXK1m', name='get_weather', type='function_call', id='fc_67fcae117d6881918df7e4b719a9abd10a45c2aed1083c1b', status='completed')]"
      ]
     },
     "execution_count": 7,
     "metadata": {},
     "output_type": "execute_result"
    }
   ],
   "source": [
    "response.output"
   ]
  },
  {
   "cell_type": "code",
   "execution_count": 8,
   "metadata": {},
   "outputs": [],
   "source": [
    "tool_call = response.output[0]\n",
    "args = json.loads(tool_call.arguments)\n",
    "\n",
    "result = get_weather(args[\"latitude\"], args[\"longitude\"])"
   ]
  },
  {
   "cell_type": "code",
   "execution_count": 9,
   "metadata": {},
   "outputs": [
    {
     "data": {
      "text/plain": [
       "20.5"
      ]
     },
     "execution_count": 9,
     "metadata": {},
     "output_type": "execute_result"
    }
   ],
   "source": [
    "result"
   ]
  },
  {
   "cell_type": "code",
   "execution_count": 10,
   "metadata": {},
   "outputs": [
    {
     "name": "stdout",
     "output_type": "stream",
     "text": [
      "The weather in Tokyo today is 20.5°C.\n"
     ]
    }
   ],
   "source": [
    "input_messages.append(tool_call)  # append model's function call message\n",
    "input_messages.append(\n",
    "    {  # append result message\n",
    "        \"type\": \"function_call_output\",\n",
    "        \"call_id\": tool_call.call_id,\n",
    "        \"output\": str(result),\n",
    "    }\n",
    ")\n",
    "\n",
    "response_2 = client.responses.create(\n",
    "    model=\"gpt-4o\",\n",
    "    input=input_messages,\n",
    "    tools=tools,\n",
    ")\n",
    "print(response_2.output_text)"
   ]
  },
  {
   "cell_type": "markdown",
   "metadata": {},
   "source": [
    "### Step 2: Built-in Functions\n",
    "\n",
    "In this step, we explore using OpenAI's built-in functions to handle tasks such as fetching weather data. This approach leverages the model's capabilities to directly interpret and execute function calls, simplifying the workflow and reducing the need for custom implementations."
   ]
  },
  {
   "cell_type": "code",
   "execution_count": 11,
   "metadata": {},
   "outputs": [
    {
     "name": "stdout",
     "output_type": "stream",
     "text": [
      "As of 6:41 AM JST on Monday, April 14, 2025, the weather in Tokyo is mostly sunny with a temperature of 70°F (21°C).\n",
      "\n",
      "## Weather for Tokyo, Japan:\n",
      "Current Conditions: Mostly sunny, 70°F (21°C)\n",
      "\n",
      "Hourly Forecast:\n",
      "* 4:00 PM: 68°F (20°C), Sunny\n",
      "* 5:00 PM: 67°F (19°C), Sunny\n",
      "* 6:00 PM: 64°F (18°C), Sunny\n",
      "* 7:00 PM: 63°F (17°C), Intermittent clouds\n",
      "* 8:00 PM: 61°F (16°C), Intermittent clouds\n",
      "* 9:00 PM: 60°F (16°C), Intermittent clouds\n",
      "* 10:00 PM: 60°F (16°C), Intermittent clouds\n",
      "* 11:00 PM: 60°F (16°C), Intermittent clouds\n",
      "* 12:00 AM: 60°F (15°C), Intermittent clouds\n",
      "* 1:00 AM: 59°F (15°C), Intermittent clouds\n",
      "* 2:00 AM: 59°F (15°C), Intermittent clouds\n",
      "* 3:00 AM: 58°F (14°C), Intermittent clouds\n",
      "\n",
      "Severe Weather Alerts:\n",
      "* Shinjuku-ku: Thunderstorm Advisory in effect until 6:00 PM JST.  Source: Japan Meteorological Agency, , Start time: Monday, April 14, 12:00 PM, End time: Monday, April 14, 06:00 PM\n",
      "\n",
      "\n",
      "Please be aware that a Thunderstorm Advisory is in effect for Shinjuku-ku until 6:00 PM JST, as issued by the Japan Meteorological Agency.\n",
      "\n",
      "In general, April in Tokyo features mild and pleasant weather, with average high temperatures around 63.7°F (17.6°C) and lows near 51.1°F (10.6°C). The city typically experiences about 12.8 days of rainfall, accumulating approximately 1.54 inches (39mm) of precipitation. ([weather-atlas.com](https://www.weather-atlas.com/en/japan/tokyo-weather-april?utm_source=openai))\n",
      "\n",
      "This period also coincides with the cherry blossom season, making it a popular time for visitors. However, it's advisable to check the latest weather updates and any local advisories before planning outdoor activities. \n"
     ]
    }
   ],
   "source": [
    "response = client.responses.create(\n",
    "    model=\"gpt-4o\",\n",
    "    tools=[{\"type\": \"web_search_preview\"}],\n",
    "    input=\"What's the weather like in Tokyo today?\",\n",
    ")\n",
    "\n",
    "print(response.output_text)"
   ]
  },
  {
   "cell_type": "code",
   "execution_count": 12,
   "metadata": {},
   "outputs": [
    {
     "data": {
      "text/plain": [
       "Response(id='resp_67fcae27f480819184c8ce682553e906000f6f144f73dc15', created_at=1744612903.0, error=None, incomplete_details=None, instructions=None, metadata={}, model='gpt-4o-2024-08-06', object='response', output=[ResponseFunctionWebSearch(id='ws_67fcae28b1cc819187d18242ea810db4000f6f144f73dc15', status='completed', type='web_search_call'), ResponseOutputMessage(id='msg_67fcae2a819c8191b2c086cd9ebcc632000f6f144f73dc15', content=[ResponseOutputText(annotations=[AnnotationURLCitation(end_index=1420, start_index=1321, title='April weather - Spring 2025 - Tokyo, Japan', type='url_citation', url='https://www.weather-atlas.com/en/japan/tokyo-weather-april?utm_source=openai')], text=\"As of 6:41 AM JST on Monday, April 14, 2025, the weather in Tokyo is mostly sunny with a temperature of 70°F (21°C).\\n\\n## Weather for Tokyo, Japan:\\nCurrent Conditions: Mostly sunny, 70°F (21°C)\\n\\nHourly Forecast:\\n* 4:00\\u202fPM: 68°F (20°C), Sunny\\n* 5:00\\u202fPM: 67°F (19°C), Sunny\\n* 6:00\\u202fPM: 64°F (18°C), Sunny\\n* 7:00\\u202fPM: 63°F (17°C), Intermittent clouds\\n* 8:00\\u202fPM: 61°F (16°C), Intermittent clouds\\n* 9:00\\u202fPM: 60°F (16°C), Intermittent clouds\\n* 10:00\\u202fPM: 60°F (16°C), Intermittent clouds\\n* 11:00\\u202fPM: 60°F (16°C), Intermittent clouds\\n* 12:00\\u202fAM: 60°F (15°C), Intermittent clouds\\n* 1:00\\u202fAM: 59°F (15°C), Intermittent clouds\\n* 2:00\\u202fAM: 59°F (15°C), Intermittent clouds\\n* 3:00\\u202fAM: 58°F (14°C), Intermittent clouds\\n\\nSevere Weather Alerts:\\n* Shinjuku-ku: Thunderstorm Advisory in effect until 6:00 PM JST.  Source: Japan Meteorological Agency, , Start time: Monday, April 14, 12:00 PM, End time: Monday, April 14, 06:00 PM\\n\\n\\nPlease be aware that a Thunderstorm Advisory is in effect for Shinjuku-ku until 6:00 PM JST, as issued by the Japan Meteorological Agency.\\n\\nIn general, April in Tokyo features mild and pleasant weather, with average high temperatures around 63.7°F (17.6°C) and lows near 51.1°F (10.6°C). The city typically experiences about 12.8 days of rainfall, accumulating approximately 1.54 inches (39mm) of precipitation. ([weather-atlas.com](https://www.weather-atlas.com/en/japan/tokyo-weather-april?utm_source=openai))\\n\\nThis period also coincides with the cherry blossom season, making it a popular time for visitors. However, it's advisable to check the latest weather updates and any local advisories before planning outdoor activities. \", type='output_text')], role='assistant', status='completed', type='message')], parallel_tool_calls=True, temperature=1.0, tool_choice='auto', tools=[WebSearchTool(type='web_search_preview', search_context_size='medium', user_location=UserLocation(type='approximate', city=None, country='US', region=None, timezone=None))], top_p=1.0, max_output_tokens=None, previous_response_id=None, reasoning=Reasoning(effort=None, generate_summary=None), status='completed', text=ResponseTextConfig(format=ResponseFormatText(type='text')), truncation='disabled', usage=ResponseUsage(input_tokens=309, input_tokens_details=InputTokensDetails(cached_tokens=0), output_tokens=541, output_tokens_details=OutputTokensDetails(reasoning_tokens=0), total_tokens=850), user=None, store=True)"
      ]
     },
     "execution_count": 12,
     "metadata": {},
     "output_type": "execute_result"
    }
   ],
   "source": [
    "response"
   ]
  }
 ],
 "metadata": {
  "kernelspec": {
   "display_name": "Python 3",
   "language": "python",
   "name": "python3"
  },
  "language_info": {
   "codemirror_mode": {
    "name": "ipython",
    "version": 3
   },
   "file_extension": ".py",
   "mimetype": "text/x-python",
   "name": "python",
   "nbconvert_exporter": "python",
   "pygments_lexer": "ipython3",
   "version": "3.10.0"
  }
 },
 "nbformat": 4,
 "nbformat_minor": 2
}
